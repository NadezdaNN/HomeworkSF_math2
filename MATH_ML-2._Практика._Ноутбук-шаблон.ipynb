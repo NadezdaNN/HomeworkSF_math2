{
  "cells": [
    {
      "cell_type": "markdown",
      "id": "b054bd88",
      "metadata": {
        "id": "b054bd88"
      },
      "source": [
        "# <center> Линейная алгебра в контексте линейных методов. Практика.\n",
        "\n",
        "## <center> Прогнозирование выработки газа на скважинах."
      ]
    },
    {
      "cell_type": "markdown",
      "id": "325bc80b",
      "metadata": {
        "id": "325bc80b"
      },
      "source": [
        "## Постановка задачи"
      ]
    },
    {
      "cell_type": "markdown",
      "id": "8247bd54",
      "metadata": {
        "id": "8247bd54"
      },
      "source": [
        "У Василия, основателя компании «Газ-Таз-Ваз-Нефть», дела идут в гору: у него уже функционирует 200 скважин для добычи газа. В этом году он открывает 30 новых скважин. Однако в целях оптимизации расходов и повышения дохода Василию необходимо оценить, сколько денег будет приносить ему каждая из скважин, а также понять, какие факторы (параметры скважин) потенциально сильнее всего повлияют на объём добычи газа. Для этого Василий решил нанять вас как специалиста в области Data Science.\n",
        "\n",
        "Василий представляет вам набор данных о добыче газа на своих скважинах. Файл с данными вы можете скачать на платформе.\n",
        "\n",
        "**Признаки в данных:**\n",
        "\n",
        "* Well — идентификатор скважины;\n",
        "* Por — пористость скважины (%);\n",
        "* Perm — проницаемость скважины;\n",
        "* AI — акустический импеданс ($кг/м^2 * 10^6$);\n",
        "* Brittle — коэффициент хрупкости скважины (%);\n",
        "* TOC — общий органический углерод (%);\n",
        "* VR — коэффициент отражения витринита (%);\n",
        "* Prod — добыча газа в сутки (млн. кубических футов).\n",
        "\n",
        "**Ваша задача** — построить регрессионную модель, которая прогнозирует выработку газа на скважине (целевой признак — Prod) на основе остальных характеристик скважины, и проинтерпретировать результаты вашей модели.\n",
        "\n",
        "Разделим задачу на две части:\n",
        "* В первой мы построим простейшую модель линейной регрессии, проанализируем результаты её работы и выберем наиболее значимые факторы для прогнозирования.\n",
        "* Во второй мы займёмся построением модели полиномиальной регрессии с регуляризацией и посмотрим на итоговые результаты моделирования.\n"
      ]
    },
    {
      "cell_type": "markdown",
      "id": "d67d069e",
      "metadata": {
        "id": "d67d069e"
      },
      "source": [
        "Импортируем необходимые библиотеки:"
      ]
    },
    {
      "cell_type": "code",
      "execution_count": 46,
      "id": "83a555bc-8dff-4b7e-bba1-cd4f4a9e69b2",
      "metadata": {
        "id": "83a555bc-8dff-4b7e-bba1-cd4f4a9e69b2"
      },
      "outputs": [],
      "source": [
        "# Импорт библиотек\n",
        "import numpy as np # для работы с массивами\n",
        "import pandas as pd # для работы с DataFrame \n",
        "import seaborn as sns # библиотека для визуализации статистических данных\n",
        "import matplotlib.pyplot as plt # для построения графиков\n",
        "\n",
        "%matplotlib inline"
      ]
    },
    {
      "cell_type": "markdown",
      "id": "e689ddaf",
      "metadata": {
        "id": "e689ddaf"
      },
      "source": [
        "Прочитаем исходные данные:"
      ]
    },
    {
      "cell_type": "code",
      "execution_count": 47,
      "id": "b7b5cd9b-703f-4dbc-a6e3-61d583eafcac",
      "metadata": {
        "colab": {
          "base_uri": "https://localhost:8080/",
          "height": 206
        },
        "id": "b7b5cd9b-703f-4dbc-a6e3-61d583eafcac",
        "outputId": "d4e99a48-2a0d-4edd-f86c-617c44bf36d2"
      },
      "outputs": [
        {
          "data": {
            "text/html": [
              "<div>\n",
              "<style scoped>\n",
              "    .dataframe tbody tr th:only-of-type {\n",
              "        vertical-align: middle;\n",
              "    }\n",
              "\n",
              "    .dataframe tbody tr th {\n",
              "        vertical-align: top;\n",
              "    }\n",
              "\n",
              "    .dataframe thead th {\n",
              "        text-align: right;\n",
              "    }\n",
              "</style>\n",
              "<table border=\"1\" class=\"dataframe\">\n",
              "  <thead>\n",
              "    <tr style=\"text-align: right;\">\n",
              "      <th></th>\n",
              "      <th>Well</th>\n",
              "      <th>Por</th>\n",
              "      <th>Perm</th>\n",
              "      <th>AI</th>\n",
              "      <th>Brittle</th>\n",
              "      <th>TOC</th>\n",
              "      <th>VR</th>\n",
              "      <th>Prod</th>\n",
              "    </tr>\n",
              "  </thead>\n",
              "  <tbody>\n",
              "    <tr>\n",
              "      <th>0</th>\n",
              "      <td>1</td>\n",
              "      <td>12.08</td>\n",
              "      <td>2.92</td>\n",
              "      <td>2.80</td>\n",
              "      <td>81.40</td>\n",
              "      <td>1.16</td>\n",
              "      <td>2.31</td>\n",
              "      <td>4165.196191</td>\n",
              "    </tr>\n",
              "    <tr>\n",
              "      <th>1</th>\n",
              "      <td>2</td>\n",
              "      <td>12.38</td>\n",
              "      <td>3.53</td>\n",
              "      <td>3.22</td>\n",
              "      <td>46.17</td>\n",
              "      <td>0.89</td>\n",
              "      <td>1.88</td>\n",
              "      <td>3561.146205</td>\n",
              "    </tr>\n",
              "    <tr>\n",
              "      <th>2</th>\n",
              "      <td>3</td>\n",
              "      <td>14.02</td>\n",
              "      <td>2.59</td>\n",
              "      <td>4.01</td>\n",
              "      <td>72.80</td>\n",
              "      <td>0.89</td>\n",
              "      <td>2.72</td>\n",
              "      <td>4284.348574</td>\n",
              "    </tr>\n",
              "    <tr>\n",
              "      <th>3</th>\n",
              "      <td>4</td>\n",
              "      <td>17.67</td>\n",
              "      <td>6.75</td>\n",
              "      <td>2.63</td>\n",
              "      <td>39.81</td>\n",
              "      <td>1.08</td>\n",
              "      <td>1.88</td>\n",
              "      <td>5098.680869</td>\n",
              "    </tr>\n",
              "    <tr>\n",
              "      <th>4</th>\n",
              "      <td>5</td>\n",
              "      <td>17.52</td>\n",
              "      <td>4.57</td>\n",
              "      <td>3.18</td>\n",
              "      <td>10.94</td>\n",
              "      <td>1.51</td>\n",
              "      <td>1.90</td>\n",
              "      <td>3406.132832</td>\n",
              "    </tr>\n",
              "  </tbody>\n",
              "</table>\n",
              "</div>"
            ],
            "text/plain": [
              "   Well    Por  Perm    AI  Brittle   TOC    VR         Prod\n",
              "0     1  12.08  2.92  2.80    81.40  1.16  2.31  4165.196191\n",
              "1     2  12.38  3.53  3.22    46.17  0.89  1.88  3561.146205\n",
              "2     3  14.02  2.59  4.01    72.80  0.89  2.72  4284.348574\n",
              "3     4  17.67  6.75  2.63    39.81  1.08  1.88  5098.680869\n",
              "4     5  17.52  4.57  3.18    10.94  1.51  1.90  3406.132832"
            ]
          },
          "execution_count": 47,
          "metadata": {},
          "output_type": "execute_result"
        }
      ],
      "source": [
        "data = pd.read_csv('../data/unconv.csv')\n",
        "data.head()"
      ]
    },
    {
      "cell_type": "markdown",
      "id": "58639b40",
      "metadata": {
        "id": "58639b40"
      },
      "source": [
        "## Практика: линейная регрессия по методу наименьших квадратов"
      ]
    },
    {
      "cell_type": "markdown",
      "id": "a90535b8",
      "metadata": {
        "id": "a90535b8"
      },
      "source": [
        "Для начала построим простейшую модель линейной регрессии, проанализируем результаты её работы и выберем наиболее значимые факторы для прогнозирования.\n",
        "\n",
        "В первой части вам предстоит выполнить задания 5.0–5.6. Максимальное количество баллов, которое можно получить, — 9."
      ]
    },
    {
      "cell_type": "markdown",
      "id": "4061b706",
      "metadata": {
        "id": "4061b706"
      },
      "source": [
        "### Задание 5.0. (не оценивается)\n",
        "\n",
        "Проведите небольшой разведывательный анализ, чтобы поближе познакомиться с исходными данными. Постройте несколько визуализаций, которые помогут вам понять, как устроены исходные признаки, а также смогут продемонстрировать взаимосвязь факторов. \n",
        "\n",
        "Сделайте промежуточные выводы из проведённого разведывательного анализа."
      ]
    },
    {
      "cell_type": "code",
      "execution_count": 48,
      "id": "daf1ccc7",
      "metadata": {
        "id": "daf1ccc7"
      },
      "outputs": [
        {
          "name": "stdout",
          "output_type": "stream",
          "text": [
            "<class 'pandas.core.frame.DataFrame'>\n",
            "RangeIndex: 200 entries, 0 to 199\n",
            "Data columns (total 8 columns):\n",
            " #   Column   Non-Null Count  Dtype  \n",
            "---  ------   --------------  -----  \n",
            " 0   Well     200 non-null    int64  \n",
            " 1   Por      200 non-null    float64\n",
            " 2   Perm     200 non-null    float64\n",
            " 3   AI       200 non-null    float64\n",
            " 4   Brittle  200 non-null    float64\n",
            " 5   TOC      200 non-null    float64\n",
            " 6   VR       200 non-null    float64\n",
            " 7   Prod     200 non-null    float64\n",
            "dtypes: float64(7), int64(1)\n",
            "memory usage: 12.6 KB\n"
          ]
        },
        {
          "data": {
            "text/html": [
              "<div>\n",
              "<style scoped>\n",
              "    .dataframe tbody tr th:only-of-type {\n",
              "        vertical-align: middle;\n",
              "    }\n",
              "\n",
              "    .dataframe tbody tr th {\n",
              "        vertical-align: top;\n",
              "    }\n",
              "\n",
              "    .dataframe thead th {\n",
              "        text-align: right;\n",
              "    }\n",
              "</style>\n",
              "<table border=\"1\" class=\"dataframe\">\n",
              "  <thead>\n",
              "    <tr style=\"text-align: right;\">\n",
              "      <th></th>\n",
              "      <th>Well</th>\n",
              "      <th>Por</th>\n",
              "      <th>Perm</th>\n",
              "      <th>AI</th>\n",
              "      <th>Brittle</th>\n",
              "      <th>TOC</th>\n",
              "      <th>VR</th>\n",
              "      <th>Prod</th>\n",
              "    </tr>\n",
              "  </thead>\n",
              "  <tbody>\n",
              "    <tr>\n",
              "      <th>count</th>\n",
              "      <td>200.000000</td>\n",
              "      <td>200.000000</td>\n",
              "      <td>200.000000</td>\n",
              "      <td>200.000000</td>\n",
              "      <td>200.000000</td>\n",
              "      <td>200.000000</td>\n",
              "      <td>200.000000</td>\n",
              "      <td>200.000000</td>\n",
              "    </tr>\n",
              "    <tr>\n",
              "      <th>mean</th>\n",
              "      <td>100.500000</td>\n",
              "      <td>14.991150</td>\n",
              "      <td>4.330750</td>\n",
              "      <td>2.968850</td>\n",
              "      <td>48.161950</td>\n",
              "      <td>0.990450</td>\n",
              "      <td>1.964300</td>\n",
              "      <td>4311.219852</td>\n",
              "    </tr>\n",
              "    <tr>\n",
              "      <th>std</th>\n",
              "      <td>57.879185</td>\n",
              "      <td>2.971176</td>\n",
              "      <td>1.731014</td>\n",
              "      <td>0.566885</td>\n",
              "      <td>14.129455</td>\n",
              "      <td>0.481588</td>\n",
              "      <td>0.300827</td>\n",
              "      <td>992.038414</td>\n",
              "    </tr>\n",
              "    <tr>\n",
              "      <th>min</th>\n",
              "      <td>1.000000</td>\n",
              "      <td>6.550000</td>\n",
              "      <td>1.130000</td>\n",
              "      <td>1.280000</td>\n",
              "      <td>10.940000</td>\n",
              "      <td>-0.190000</td>\n",
              "      <td>0.930000</td>\n",
              "      <td>2107.139414</td>\n",
              "    </tr>\n",
              "    <tr>\n",
              "      <th>25%</th>\n",
              "      <td>50.750000</td>\n",
              "      <td>12.912500</td>\n",
              "      <td>3.122500</td>\n",
              "      <td>2.547500</td>\n",
              "      <td>37.755000</td>\n",
              "      <td>0.617500</td>\n",
              "      <td>1.770000</td>\n",
              "      <td>3618.064513</td>\n",
              "    </tr>\n",
              "    <tr>\n",
              "      <th>50%</th>\n",
              "      <td>100.500000</td>\n",
              "      <td>15.070000</td>\n",
              "      <td>4.035000</td>\n",
              "      <td>2.955000</td>\n",
              "      <td>49.510000</td>\n",
              "      <td>1.030000</td>\n",
              "      <td>1.960000</td>\n",
              "      <td>4284.687348</td>\n",
              "    </tr>\n",
              "    <tr>\n",
              "      <th>75%</th>\n",
              "      <td>150.250000</td>\n",
              "      <td>17.402500</td>\n",
              "      <td>5.287500</td>\n",
              "      <td>3.345000</td>\n",
              "      <td>58.262500</td>\n",
              "      <td>1.350000</td>\n",
              "      <td>2.142500</td>\n",
              "      <td>5086.089761</td>\n",
              "    </tr>\n",
              "    <tr>\n",
              "      <th>max</th>\n",
              "      <td>200.000000</td>\n",
              "      <td>23.550000</td>\n",
              "      <td>9.870000</td>\n",
              "      <td>4.630000</td>\n",
              "      <td>84.330000</td>\n",
              "      <td>2.180000</td>\n",
              "      <td>2.870000</td>\n",
              "      <td>6662.622385</td>\n",
              "    </tr>\n",
              "  </tbody>\n",
              "</table>\n",
              "</div>"
            ],
            "text/plain": [
              "             Well         Por        Perm          AI     Brittle         TOC  \\\n",
              "count  200.000000  200.000000  200.000000  200.000000  200.000000  200.000000   \n",
              "mean   100.500000   14.991150    4.330750    2.968850   48.161950    0.990450   \n",
              "std     57.879185    2.971176    1.731014    0.566885   14.129455    0.481588   \n",
              "min      1.000000    6.550000    1.130000    1.280000   10.940000   -0.190000   \n",
              "25%     50.750000   12.912500    3.122500    2.547500   37.755000    0.617500   \n",
              "50%    100.500000   15.070000    4.035000    2.955000   49.510000    1.030000   \n",
              "75%    150.250000   17.402500    5.287500    3.345000   58.262500    1.350000   \n",
              "max    200.000000   23.550000    9.870000    4.630000   84.330000    2.180000   \n",
              "\n",
              "               VR         Prod  \n",
              "count  200.000000   200.000000  \n",
              "mean     1.964300  4311.219852  \n",
              "std      0.300827   992.038414  \n",
              "min      0.930000  2107.139414  \n",
              "25%      1.770000  3618.064513  \n",
              "50%      1.960000  4284.687348  \n",
              "75%      2.142500  5086.089761  \n",
              "max      2.870000  6662.622385  "
            ]
          },
          "execution_count": 48,
          "metadata": {},
          "output_type": "execute_result"
        }
      ],
      "source": [
        "data.info()\n",
        "data.describe()"
      ]
    },
    {
      "cell_type": "markdown",
      "id": "07ff8436",
      "metadata": {},
      "source": [
        "Видим, что в данных отсутствуют пропуски и каждый из признаков изменяется в различных диапазонах: например, Por лежит в диапазоне от 6.55 до 23.55, а TOC — от -0.19 до 2.18."
      ]
    },
    {
      "cell_type": "markdown",
      "id": "d11cb44f",
      "metadata": {
        "id": "d11cb44f"
      },
      "source": [
        "### Задание 5.1. (2 балла)\n",
        "\n",
        "Постройте корреляционную матрицу факторов, включив в неё целевой признак. \n",
        "\n",
        "Для наглядности визуализируйте полученную матрицу с помощью тепловой карты. \n",
        "\n",
        "**Примечание.** *Для визуализации вы можете использовать любую из знакомых вам библиотек.*\n",
        "\n",
        "На основе построенной корреляционной матрицы ответьте на следующий вопрос:\n",
        "\n",
        "* Какие факторы сильнее всего коррелируют с целевой переменной?\n",
        "\n",
        "Вычислите ранг и определитель полученной матрицы корреляций и приведите развёрнутые ответы на следующие вопросы:\n",
        "* Является ли корреляционная матрица плохо обусловенной (близок ли её опредитель к нулю)?\n",
        "* Что вы можете сказать о наличии коллинераности/мультиколлинеарности в данных? \n",
        "* Применима ли в данном случае модель классической линейной регрессии по методу наименьших квадратов и почему? "
      ]
    },
    {
      "cell_type": "markdown",
      "id": "57OjUl5e2oiL",
      "metadata": {
        "id": "57OjUl5e2oiL"
      },
      "source": [
        "**Критерии оценивания:**\n",
        "- Задание выполнено верно, учтены все условия (**2 балла**): \n",
        "    * приведён код для расчёта корреляционной матрицы;\n",
        "    * приведён код для визуализации корреляционной матрицы в виде тепловой карты;\n",
        "    * рассчитаны ранг и определитель корреляционной матрицы;\n",
        "    * предоставлены обоснованные ответы на все поставленные вопросы. \n",
        "\n",
        "- Задание выполнено верно, но не учтено одно условие (**1 балл**).\n",
        "- Задание выполнено неверно, не учтено несколько условий (**0 баллов**)."
      ]
    },
    {
      "cell_type": "code",
      "execution_count": 49,
      "id": "af00a5a0",
      "metadata": {
        "id": "af00a5a0"
      },
      "outputs": [
        {
          "name": "stdout",
          "output_type": "stream",
          "text": [
            "Ранг матрицы корреляции равен:  8\n",
            "Определитель матрицы корреляции равен:  0.0007299388072652095\n"
          ]
        },
        {
          "data": {
            "image/png": "[encoded data removed]",
            "text/plain": [
              "<Figure size 1200x500 with 2 Axes>"
            ]
          },
          "metadata": {},
          "output_type": "display_data"
        }
      ],
      "source": [
        "matr_corr = data.corr()\n",
        "#display(matr_corr)\n",
        "fig = plt.figure(figsize=(12, 5))\n",
        "sns.heatmap(matr_corr, annot=True);\n",
        "print('Ранг матрицы корреляции равен: ', np.linalg.matrix_rank(matr_corr))\n",
        "print('Определитель матрицы корреляции равен: ', np.linalg.det(matr_corr))\n"
      ]
    },
    {
      "cell_type": "markdown",
      "id": "9a56013d",
      "metadata": {
        "id": "9a56013d"
      },
      "source": [
        "* Наиболее сильная корреляция с целевой переменной Prod наблюдается у таких факторов как пористость скважины Por (коэффициент 0,86) и проницаемость скважины Perm (коэффициент 0.73).\n",
        "* Определитель матрицы корреляции близок к нулю, это значит что она является плохо обусловленной (близкой к вырожденной).\n",
        "* Чистой коллинеарности между факторами нет. Но, т.к. матрица корреляций имеет максимальный ранг (8) и при этом практически вырождена, то мы можем говорить о мультиколлинеарности факторов.\n",
        "* Модель линейной регрессии может быть применена в данном случае, т.к. мультиколлинеарность не оказывает прямого влияния на точность модели сама по себе, но при этом необходимо внимательно отнестись к интерпретации результатов рассматриваемой модели. "
      ]
    },
    {
      "cell_type": "markdown",
      "id": "43fd91c4",
      "metadata": {
        "id": "43fd91c4"
      },
      "source": [
        "### Задание 5.2. (2 балла)\n",
        "\n",
        "Создайте матрицу наблюдений `X` и вектор правильных ответов `y`. В качестве факторов для матрицы наблюдений возьмите все имеющиеся в данных признаки. \n",
        "\n",
        "Постройте модель линейной регрессии по методу наименьших квадратов. Для этого воспользуйтесь матричной формулой МНК и инструментарием библиотеки numpy. \n",
        "\n",
        "Выведите на экран полученные оценки коэффициентов модели, округлённые до целого.\n",
        "\n",
        "Приведите подробные выводы по полученным результатам, ответив на следующие вопросы:\n",
        "* Есть ли в ваших данных признаки, которые, согласно модели, можно назвать неинформативными, то есть они не оказывают влияния на целевую переменную или оказывают шумовое влияние?\n",
        "* Приведите интерпретацию нескольких (двух или трёх) коэффициентов полученной модели линейной регрессии.\n"
      ]
    },
    {
      "cell_type": "markdown",
      "id": "QtNtTUzI4Cpq",
      "metadata": {
        "id": "QtNtTUzI4Cpq"
      },
      "source": [
        "**Критерии оценивания:**\n",
        "- Задание выполнено верно, учтены все условия (**2 балла**): \n",
        "    * приведён код для нахождения параметров модели линейной регрессии с помощью матричной формулы МНК;\n",
        "    * на основе полученных параметров даны верные ответы на поставленные вопросы;\n",
        "    * приведена корректная интерпретация нескольких коэффициентов полученной модели линейной регрессии.\n",
        "\n",
        "- Задание выполнено верно, но не учтено одно из условий (**1 балл**).\n",
        "- Задание выполнено неверно, не учтено несколько условий (**0 баллов**)."
      ]
    },
    {
      "cell_type": "code",
      "execution_count": 50,
      "id": "5724288c",
      "metadata": {
        "id": "5724288c"
      },
      "outputs": [
        {
          "name": "stdout",
          "output_type": "stream",
          "text": [
            "Index(['Well', 'Por', 'Perm', 'AI', 'Brittle', 'TOC', 'VR'], dtype='object')\n",
            "[[-1255]\n",
            " [    0]\n",
            " [  239]\n",
            " [  105]\n",
            " [ -339]\n",
            " [   25]\n",
            " [  -90]\n",
            " [  718]]\n"
          ]
        }
      ],
      "source": [
        "from sklearn.model_selection import train_test_split #сплитование выборки\n",
        "\n",
        "X = data.drop(['Prod'], axis=1) \n",
        "y = data[['Prod']]\n",
        "\n",
        "# Разделим данные на тренировочную и тестовую\n",
        "X_train, X_test, y_train, y_test = train_test_split(X, y, random_state = 1, test_size = 0.2)\n",
        "\n",
        "print(X.columns)\n",
        "A=np.column_stack((np.ones(X_train.shape[0]), X_train)) # A - матрица наблюдений\n",
        "# вычислим OLS-оценку для коэффициентов\n",
        "w = np.linalg.inv(A.T@A)@A.T@y_train\n",
        "print(w.values.astype(int))"
      ]
    },
    {
      "cell_type": "markdown",
      "id": "bab9ee21",
      "metadata": {
        "id": "bab9ee21"
      },
      "source": [
        "* Влияние фактора Well (идентификатор скважины), не оказывает влияния на целевую переменную Prod, т.к. коэффициент $ w_1 $ = 0. \n",
        "* Добыча газа в сутки (Prod) упадет на 339 млн. кубических футов, если акустический импеданс (AI) увеличится на единицу измерения ($ кг/м^2*10^6 $) и при этом не изменятся другие факторы. \n",
        "* Добыча газа в сутки (Prod) увеличится на 25 млн. кубических футов, если коэффициент хрупкости скважины (Brittle) увеличится на 1% и при этом не изменится влияние других факторов. "
      ]
    },
    {
      "cell_type": "markdown",
      "id": "4a05a4ac",
      "metadata": {
        "id": "4a05a4ac"
      },
      "source": [
        "### Задание 5.3. (1 балл)\n",
        "\n",
        "Теперь потренируемся строить предсказание для наблюдений целевой переменной. \n",
        "\n",
        "**а)** Постройте прогноз выработки газа для скважины со следующими параметрами:\n",
        "\n",
        "```python\n",
        "{\n",
        "    'Well': 106.0,\n",
        "    'Por': 15.32,\n",
        "    'Perm': 3.71,\n",
        "    'AI': 3.29,\n",
        "    'Brittle': 55.99,\n",
        "    'TOC': 1.35,\n",
        "    'VR': 2.42\n",
        " }\n",
        "```\n",
        "\n",
        "Рассчитайте абсолютную ошибку построенного вами прогноза для предложенной скважины (в миллионах кубических футов в день), если известно, что на этой скважине производится `4748.315024` миллионов кубических футов газа в день. \n",
        "\n",
        "**б)** Постройте прогноз выработки газа для всех скважин из обучающего набора данных. Выберите метрику, по которой вы будете оценивать качество регрессионных моделей и сравнивать их между собой (можно использовать несколько метрик, но не более двух).\n",
        "\n",
        "Рассчитайте значение выбранной метрики для вашей модели. Приведите интерпретацию полученного результата. "
      ]
    },
    {
      "cell_type": "markdown",
      "id": "qUDcep5Q5GWU",
      "metadata": {
        "id": "qUDcep5Q5GWU"
      },
      "source": [
        "**Критерии оценивания:**\n",
        "- Задание выполнено верно, учтены все условия (**1 балл**): \n",
        "    * приведён код для построения прогноза выработки газа на указанной скважине и рассчитана абсолютная ошибка прогноза для этой скважины;\n",
        "    * выбрана корректная для поставленной задачи метрика (или метрики) оценки качества модели и приведён код для расчёта этой метрики на всём обучающем наборе данных;\n",
        "    * приведена корректная интерпретация полученного результата.\n",
        "\n",
        "- Задание выполнено верно, но не учтено одно из условий, или задание выполнено неверно (**0 баллов**)."
      ]
    },
    {
      "cell_type": "code",
      "execution_count": 51,
      "id": "e4291db0",
      "metadata": {
        "id": "e4291db0"
      },
      "outputs": [
        {
          "name": "stdout",
          "output_type": "stream",
          "text": [
            "prediction: [[4717.12947522]]\n",
            "Абсолютная ошибка предсказания: [[31.18554878]]\n",
            "MARE: 0.036\n",
            "R2_score : 0.960\n"
          ]
        }
      ],
      "source": [
        "from sklearn import metrics\n",
        "Well=106.0\n",
        "Por=15.32\n",
        "Per=3.71\n",
        "AI=3.29\n",
        "Brittle=55.99\n",
        "TOC=1.35\n",
        "VR=2.42\n",
        " \n",
        "new=np.array([[1,Well,Por,Per,AI,Brittle,TOC,VR]])\n",
        "pred = (new@w).values\n",
        "print('prediction:', pred)\n",
        "print('Абсолютная ошибка предсказания:', np.abs(pred-4748.315024))\n",
        "\n",
        "y_pred_train = np.dot(A,w)\n",
        "\n",
        "print('MARE: {:.3f}'.format(metrics.mean_absolute_percentage_error(y_train, y_pred_train)))\n",
        "print('R2_score : {:.3f}'.format(metrics.r2_score(y_train, y_pred_train)))\n",
        "\n",
        "# Создаем массивы для составления сводной таблицы\n",
        "m_t=np.array([0,0,0,0,0,0,0], float)\n",
        "r2_t=np.array([0,0,0,0,0,0,0], float)\n",
        "m_v=np.array([None,None,0,0,0,0,0], float)\n",
        "r2_v=np.array([None,None,0,0,0,0,0], float)\n",
        "\n",
        "m_t[0]=metrics.mean_absolute_percentage_error(y_train, y_pred_train)*100\n",
        "r2_t[0]=metrics.r2_score(y_train, y_pred_train)\n"
      ]
    },
    {
      "cell_type": "markdown",
      "id": "c9bee4bc",
      "metadata": {
        "id": "c9bee4bc"
      },
      "source": [
        "* Метрика MARE = 0.036 говорит нам о том, что абсолютная ошибка составляет 3.6%.\n",
        "* R2 = 0.96 - доля объясняемой информации (дисперсии), которую улавливает модель. R2>0.5 - хороший показатель для модели."
      ]
    },
    {
      "cell_type": "markdown",
      "id": "0c25c3aa",
      "metadata": {
        "id": "0c25c3aa"
      },
      "source": [
        "### Задание 5.4. (1 балл)\n",
        "\n",
        "Настало время анализа построенной модели. Посмотрите на коэффициенты и сравните их знаки со значениями выборочных корреляций между целевым признаком и факторами, которые вы нашли ранее.\n",
        "\n",
        "Дайте развёрнутые ответы на следующие вопросы:\n",
        "\n",
        "* Есть ли в вашей модели фактор, при котором коэффициент в модели линейной регрессии противоречит соответствующему коэффициенту корреляции? Например, корреляция говорит, что зависимость между фактором и целевой переменной прямая, а модель говорит обратное. Если таких факторов несколько, укажите их все.\n",
        "* Как вы считаете, с чем связано полученное противоречие результатов?"
      ]
    },
    {
      "cell_type": "markdown",
      "id": "ngJ3UdYb6Ll6",
      "metadata": {
        "id": "ngJ3UdYb6Ll6"
      },
      "source": [
        "**Критерии оценивания:**\n",
        "\n",
        "- Задание выполнено верно, даны корректные развёрнутые ответы на все поставленные в задании вопросы (**1 балл**). \n",
        "\n",
        "- Задание выполнено неверно, даны некорректные ответы на один или несколько поставленных в задании вопросов (**0 баллов**)."
      ]
    },
    {
      "cell_type": "code",
      "execution_count": 52,
      "id": "v-zIxRPY9wK7",
      "metadata": {
        "id": "v-zIxRPY9wK7"
      },
      "outputs": [],
      "source": [
        "# Ваш код здесь"
      ]
    },
    {
      "cell_type": "markdown",
      "id": "qeowwIp99yBf",
      "metadata": {
        "id": "qeowwIp99yBf"
      },
      "source": [
        "Фактор TOC (общий органический углерод) имеет отрицательный коэффициент в модели линейной регрессии (-90), а корреляционный коэффициаент этого фактора с целевой переменной - положительный и равен 0.65. Это связано с мультиколлинеарностью факторов, которая в свою очередь приводит к неустойчивости коэффициентов линейной регрессии. Что мы и наблюдаем в нашем случае, - коэффициент сменил знак."
      ]
    },
    {
      "cell_type": "markdown",
      "id": "9cea9195",
      "metadata": {
        "id": "9cea9195"
      },
      "source": [
        "### Задание 5.5. (2 балла)\n",
        "\n",
        "* Исключите из данных сильно коррелированные между собой факторы. Под сильной корреляцией в данной задаче будем понимать значения выше `0.7`.\n",
        "\n",
        "Выбирая, какой из коррелированных факторов оставить, руководствуйтесь коэффициентом корреляции с целевой переменной: оставляйте тот фактор, который больше всего коррелирует с целевой переменной (объёмом добычи газа).\n",
        "\n",
        "* Также исключите из данных факторы, для которых корреляция с целевой переменной меньше `0.05`.\n",
        "\n",
        "Постройте модель линейной регрессии на обновлённых после удаления факторов данных по методу наименьших квадратов. Для этого используйте матричную формулу и библиотеку numpy. Выведите значение полученных коэффициентов, округлённых до целого.\n",
        "\n",
        "Сделайте прогноз для всего обучающего набора данных и рассчитайте выбранную вами ранее метрику (или метрики). \n",
        "\n",
        "Дайте подробные ответы на следующие вопросы:\n",
        "\n",
        "* Приведите интерпретацию нескольких полученных коэффициентов (двух или трёх). Сравните их значения с полученными ранее.\n",
        "* Приведите интерпретацию полученных значений метрик. Сравните их значения с полученными ранее. \n",
        "* Удалось ли вам побороть противоречие коэффициентов линейной регрессии и коэффициентов корреляции?"
      ]
    },
    {
      "cell_type": "markdown",
      "id": "vlUYVjJP6oXN",
      "metadata": {
        "id": "vlUYVjJP6oXN"
      },
      "source": [
        "**Критерии оценивания:**\n",
        "- Задание выполнено верно, учтены все условия (**2 балла**): \n",
        "    * отобраны верные факторы;\n",
        "    * на основе отобранных факторов построена модель линейной регрессии с помощью матричной формулы МНК и найдены параметры модели, соответствующие каждому из факторов;\n",
        "    * построен прогноз для всего обучающего набора данных и рассчитано значение метрики (метрика должна быть выбрана корректно);\n",
        "    * даны ответы на все поставленные в задании вопросы.\n",
        "\n",
        "- Задание выполнено верно, но не учтено одно из условий (**1 балл**).\n",
        "- Задание выполнено верно, не учтено несколько из условий (**0 баллов**)."
      ]
    },
    {
      "cell_type": "code",
      "execution_count": 53,
      "id": "5d5ZJ0lX_UHe",
      "metadata": {
        "id": "5d5ZJ0lX_UHe"
      },
      "outputs": [
        {
          "name": "stdout",
          "output_type": "stream",
          "text": [
            "Index(['Por', 'AI', 'Brittle', 'VR'], dtype='object')\n",
            "[[-1753]\n",
            " [  293]\n",
            " [ -181]\n",
            " [   27]\n",
            " [  453]]\n",
            "MARE: 0.039\n",
            "R2_score: 0.949\n"
          ]
        }
      ],
      "source": [
        "X = X.drop(['Perm', 'TOC', 'Well'], axis=1) \n",
        "\n",
        "X_train, X_test, y_train, y_test = train_test_split(X, y, random_state = 1, test_size = 0.2)\n",
        "\n",
        "A=np.column_stack((np.ones(X_train.shape[0]), X_train))\n",
        "print(X.columns)\n",
        "\n",
        "# вычислим OLS-оценку для коэффициентов\n",
        "w = np.linalg.inv(A.T@A)@A.T@y_train\n",
        "print(w.values.astype(int))\n",
        "\n",
        "y_pred_train = np.dot(A,w)\n",
        "print('MARE: {:.3f}'.format(metrics.mean_absolute_percentage_error(y_train, y_pred_train)))\n",
        "print('R2_score: {:.3f}'.format(metrics.r2_score(y_train, y_pred_train)))\n",
        "m_t[1]=metrics.mean_absolute_percentage_error(y_train, y_pred_train)*100\n",
        "r2_t[1]=metrics.r2_score(y_train, y_pred_train)"
      ]
    },
    {
      "cell_type": "markdown",
      "id": "KxbYvMDo_WLe",
      "metadata": {
        "id": "KxbYvMDo_WLe"
      },
      "source": [
        "* Коэффициенты, полученные после удаления факторов и построения модели линейной регрессии можно проинтерпретировать следующим образом: добыча газа в сутки (Prod) упадет на 181 млн. кубических футов, если акустический импеданс (AI) увеличится на единицу измерения ($ кг/м^2*10^6 $) и при этом не изменятся другие факторы. Значение коэффициента уменьшилось (по модулю) по сравнению со значением этого же коэффициента, полученного ранее в п. 5.2\n",
        "* Добыча газа в сутки (Prod) увеличится на 27 млн. кубических футов, если коэффициент хрупкости скважины (Brittle) увеличится на 1% и при этом не изменится влияние других факторов. Значение коэффициента увеличилось по сравнению со значением этого же коэффициента, полученного ранее в п. 5.2\n",
        "* Метрика MARE увеличилась до 3.9%, т.е. произошло ухудшение предсказания модели линейной регрессии после исключения неинформативных и линейно зависимых факторов. Значение R2=0.949 так же ухудшилось по сравнению со значением из пункта 5.4.\n",
        "* Противоречия коэффициентов линейной регрессии и коэффициентов корреляции больше не наблюдается."
      ]
    },
    {
      "cell_type": "markdown",
      "id": "7d50db12",
      "metadata": {
        "id": "7d50db12"
      },
      "source": [
        "### Задание 5.6. (1 балл)\n",
        "\n",
        "Наконец, давайте построим модель линейной регрессии из библиотеки `scikit-learn (sklearn)` и сравним результаты её работы с теми, что нам удалось получить вручную. \n",
        "\n",
        "Постройте модель линейной регрессии на обновлённых после удаления факторов данных по методу наименьших квадратов. Для этого воспользуйтесь классом `LinearRegression` из библиотеки `sklearn`. Выведите значения полученных коэффициентов, округлённые до целого.\n",
        "\n",
        "Сделайте прогноз для всего обучающего набора данных и рассчитайте значение выбранной вами метрики (или метрик).\n",
        "\n",
        "Сравните результаты библиотечной реализации с тем, что вы получили ранее. "
      ]
    },
    {
      "cell_type": "markdown",
      "id": "emu5D3w278JP",
      "metadata": {
        "id": "emu5D3w278JP"
      },
      "source": [
        "**Критерии оценивания:**\n",
        "\n",
        "- Задание выполнено верно, учтены все условия (**1 балл**): \n",
        "    * на основе отобранных факторов построена модель линейной регрессии из библиотеки sklearn и найдены параметры модели, соответствующие каждому из факторов;\n",
        "    * построен прогноз для всего обучающего набора данных и рассчитано значение метрики (метрика должна быть выбрана корректно);\n",
        "    * приведён вывод о соответствии результатов, полученных вручную и с помощью библиотеки.\n",
        "- Задание выполнено неверно, не учтено одно или несколько условий (**0 баллов**)."
      ]
    },
    {
      "cell_type": "code",
      "execution_count": 54,
      "id": "Gpdpfq59AKGu",
      "metadata": {
        "id": "Gpdpfq59AKGu"
      },
      "outputs": [
        {
          "name": "stdout",
          "output_type": "stream",
          "text": [
            "w: [[-1753   293  -181    27   453]]\n",
            "MARE (на тренировочных данных): 0.039\n",
            "R2 score (на тренировочных данных): 0.949\n",
            "MARE (на тестовых данных): 0.045\n",
            "R2 score (на тестовых данных): 0.929\n"
          ]
        }
      ],
      "source": [
        "from sklearn.linear_model import LinearRegression\n",
        "\n",
        "# создаём модель линейной регрессии\n",
        "model_lr = LinearRegression(fit_intercept=False)  \n",
        "# вычисляем коэффициенты регрессии\n",
        "model_lr.fit(A, y_train)\n",
        "print('w:', model_lr.coef_.astype(int))\n",
        "y_pred_train = model_lr.predict(A)\n",
        "\n",
        "A_test=np.column_stack((np.ones(X_test.shape[0]), X_test))\n",
        "y_pred_test = model_lr.predict(A_test)\n",
        "\n",
        "print('MARE (на тренировочных данных): {:.3f}'.format(metrics.mean_absolute_percentage_error(y_train, y_pred_train)))\n",
        "print('R2 score (на тренировочных данных): {:.3f}'.format(metrics.r2_score(y_train, y_pred_train)))\n",
        "print('MARE (на тестовых данных): {:.3f}'.format(metrics.mean_absolute_percentage_error(y_test, y_pred_test)))\n",
        "print('R2 score (на тестовых данных): {:.3f}'.format(metrics.r2_score(y_test, y_pred_test)))\n",
        "m_t[2]=metrics.mean_absolute_percentage_error(y_train, y_pred_train)*100\n",
        "r2_t[2]=metrics.r2_score(y_train, y_pred_train)\n",
        "m_v[2]=metrics.mean_absolute_percentage_error(y_test, y_pred_test)*100\n",
        "r2_v[2]=metrics.r2_score(y_test, y_pred_test)"
      ]
    },
    {
      "cell_type": "markdown",
      "id": "WT9cdHAbAMG7",
      "metadata": {
        "id": "WT9cdHAbAMG7"
      },
      "source": [
        "Решение методом линейной регрессии при использовании класса LinearRegression (библиотека sklearn) и тем же методом линейной регрессии, но с помощью матричной формулы МНК, даёт одинаковый результат, - метрика MARE и коэффициенты - совпадают с соответствующими значениями метрик из п.5.5. Метрики на тестовых данных - "
      ]
    },
    {
      "cell_type": "markdown",
      "id": "5346338e",
      "metadata": {
        "id": "5346338e"
      },
      "source": [
        "## Практика: полиномиальная регрессия и регуляризация"
      ]
    },
    {
      "cell_type": "markdown",
      "id": "aad9e3a6",
      "metadata": {
        "id": "aad9e3a6"
      },
      "source": [
        "Мы продолжаем работать над задачей от владельца компании «Газ-Таз-Ваз-Нефть» Василия.\n",
        "\n",
        "Ранее мы построили модель линейной регрессии, которая прогнозирует выработку газа на скважине. Для этого мы с помощью матрицы корреляций и рассуждений отобрали некоррелированные, значимые для предсказания признаки. **Далее мы будем использовать именно их (см. задание 5.5).**\n",
        "\n",
        "Мы хотим улучшить результат — уменьшить ошибку прогноза. Для этого мы воспользуемся моделью полиномиальной регрессии третьей степени. Однако теперь мы знаем, что полиномиальным моделям очень легко переобучиться под исходную выборку. Так как данных у нас не так много (всего 200 скважин), то для контроля качества модели мы будем использовать кросс-валидацию. \n",
        "\n",
        "Приступим! Выполните задания 8.1–8.5:\n"
      ]
    },
    {
      "cell_type": "code",
      "execution_count": 55,
      "id": "18506d1b",
      "metadata": {
        "id": "18506d1b"
      },
      "outputs": [],
      "source": [
        "import sklearn\n",
        "from sklearn.preprocessing import PolynomialFeatures, StandardScaler\n",
        "from sklearn.linear_model import LinearRegression, Lasso, Ridge, ElasticNet\n",
        "from sklearn.model_selection import GridSearchCV\n",
        "from sklearn.model_selection import cross_validate"
      ]
    },
    {
      "cell_type": "markdown",
      "id": "bfbfea8d",
      "metadata": {
        "id": "bfbfea8d"
      },
      "source": [
        "### Задание 8.1. (1 балл)\n",
        "\n",
        "Стандаризируйте признаки с помощью `StandartScaler` из библиотеки `sklearn`. \n",
        "\n",
        "Затем сгенерируйте полиномиальные признаки третьего порядка на факторах, которые вы выбрали для обучения моделей. Для этого воспользуйтесь генератором полиномов `PolynomialFeatures` из библиотеки `sklearn`. Параметр `include_bias` установите в значение `False`.\n",
        "\n",
        "Выведите на экран, сколько факторов у вас получилось после генерации полиномиальных признаков.\n",
        "\n",
        "**Важно:** стандартизацию необходимо произвести до генерации полиномиальных факторов!\n",
        "\n",
        "Обучите модель линейной регрессии из библиотеки `sklearn` (`LinearRegression`) на полученных полиномиальных факторах.\n",
        "\n",
        "Используя кросс-валидацию оцените среднее значение выбранной вами метрики (или метрик) на тренировочных и валидационных фолдах.\n",
        "\n",
        "Проинтерпретируйте полученные результаты."
      ]
    },
    {
      "cell_type": "markdown",
      "id": "Y8oAhQkr8gV-",
      "metadata": {
        "id": "Y8oAhQkr8gV-"
      },
      "source": [
        "**Критерии оценивания:**\n",
        "\n",
        "- Задание выполнено верно, учтены все условия (**1 балл**): \n",
        "    * на основе отобранных факторов сгенерированы полиномиальные признаки третьего порядка;\n",
        "    * построена модель полиномиальной регрессии (линейной регрессии на полиномиальных признаках);\n",
        "    * с помощью кросс-валидации оценено среднее значение выбранной студентом метрики (или метрик) на тренировочных и валидационных фолдах (метрика должна быть выбрана корректно).\n",
        "- Задание выполнено неверно, не учтено одно или несколько из условий (**0 баллов**)."
      ]
    },
    {
      "cell_type": "code",
      "execution_count": 56,
      "id": "-ln3bx8NFNRw",
      "metadata": {
        "id": "-ln3bx8NFNRw"
      },
      "outputs": [
        {
          "name": "stdout",
          "output_type": "stream",
          "text": [
            "Количество столбцов матрицы наблюдений после генерации полиномиальных признаков: 55\n",
            "Среднее значение MARE (на тренировочных данных) : 0.05\n",
            "Среднее значение R2 (на тренировочных данных) : 0.92\n",
            "Среднее значение MARE (на валидационных данных) : 0.05\n",
            "Среднее значение R2 (на валидационных данных) : 0.91\n"
          ]
        }
      ],
      "source": [
        "X = data.drop(['Prod', 'Perm', 'TOC', 'Well'], axis=1) \n",
        "\n",
        "from sklearn import model_selection #методы разделения и валидации\n",
        "# инициализируем стандартизатор StandardScaler\n",
        "scaler = sklearn.preprocessing.StandardScaler()\n",
        "# кодируем исходный датасет\n",
        "X_s = scaler.fit_transform(X)\n",
        "A_s=np.column_stack((np.ones(X_s.shape[0]), X_s))\n",
        "\n",
        "from sklearn.preprocessing import PolynomialFeatures\n",
        "poly = PolynomialFeatures(degree=3, include_bias=False)\n",
        "A_poly = poly.fit_transform(A_s)\n",
        "A_poly = pd.DataFrame(A_poly)\n",
        "print('Количество столбцов матрицы наблюдений после генерации полиномиальных признаков:', A_poly.shape[1])\n",
        "\n",
        "# Разделим датасет на тренировочный и валидационный. Валидационный будем использовать для подбора гиперпараметров.\n",
        "X_train, X_valid, y_train, y_valid = train_test_split(X, y, test_size = 0.20) # random_state = 42, \n",
        "\n",
        "# создаём модель линейной регрессии\n",
        "model_lr = LinearRegression(fit_intercept=False) \n",
        "model_lr.fit(X_train, y_train) # обучаем модель линейной регрессии \n",
        "\n",
        "#Создаём объект кросс-валидатора KFold\n",
        "kf = model_selection.KFold(n_splits=5)\n",
        "#Создаём список для хранения тренировочных и валидационных метрик\n",
        "train_metrics_mare = []\n",
        "val_metrics_mare = []\n",
        "train_metrics_r2 = []\n",
        "val_metrics_r2 = []\n",
        "#Организуем цикл для кросс-валидации (используем весь набор данных)\n",
        "#train_index — индексы тренировочной выборки\n",
        "#valid_index — индексы валидационной выборки\n",
        "for train_index, valid_index in kf.split(X_train, y_train): \n",
        "    #Создаём тренировочную и валидационную выборку, обращаясь по текущим индексам\n",
        "    X_train_tmp, y_train_tmp = X_train.iloc[train_index], y_train.iloc[train_index]\n",
        "    X_valid_tmp, y_valid_tmp = X_train.iloc[valid_index], y_train.iloc[valid_index]\n",
        "    #Обучаем дерево решений на тренировочной выборке\n",
        "    model_lr.fit(X_train_tmp, y_train_tmp)\n",
        "    #Делаем предсказание для каждой из выборок\n",
        "    y_train_pred = model_lr.predict(X_train_tmp)\n",
        "    y_valid_pred = model_lr.predict(X_valid_tmp)\n",
        "    #Рассчитываем метрику и заносим её в список\n",
        "    train_metrics_mare.append(metrics.mean_absolute_percentage_error(y_train_tmp, y_train_pred))\n",
        "    val_metrics_mare.append(metrics.mean_absolute_percentage_error(y_valid_tmp, y_valid_pred))\n",
        "    train_metrics_r2.append(metrics.r2_score(y_train_tmp, y_train_pred))\n",
        "    val_metrics_r2.append(metrics.r2_score(y_valid_tmp, y_valid_pred))\n",
        "\n",
        "print('Среднее значение MARE (на тренировочных данных) : {:.2f}'.format(np.mean(train_metrics_mare)))\n",
        "print('Среднее значение R2 (на тренировочных данных) : {:.2f}'.format(np.mean(train_metrics_r2)))\n",
        "print('Среднее значение MARE (на валидационных данных) : {:.2f}'.format(np.mean(val_metrics_mare)))\n",
        "print('Среднее значение R2 (на валидационных данных) : {:.2f}'.format(np.mean(val_metrics_r2)))\n",
        "m_t[3]=np.mean(train_metrics_mare)*100\n",
        "r2_t[3]=np.mean(train_metrics_r2)\n",
        "m_v[3]=np.mean(val_metrics_mare)*100\n",
        "r2_v[3]=np.mean(val_metrics_r2)"
      ]
    },
    {
      "cell_type": "markdown",
      "id": "40660ab6",
      "metadata": {},
      "source": [
        "Среднее значение метрики MARE на тренировочных данных увеличилось и составило 5%, R2 = 0.92 > 0.5. Похожая ситуация с метриками на валидационных данных MARE = 5% и R2 = 0.91 - модель пригодна для предсказания."
      ]
    },
    {
      "cell_type": "markdown",
      "id": "63d06013",
      "metadata": {
        "id": "63d06013"
      },
      "source": [
        "### Задание 8.2. (2 балла)\n",
        "\n",
        "Теперь попробуем воспользоваться линейной регрессией с регуляризацией. Для начала возьмём $L_1$-регуляризацию.\n",
        "\n",
        "Обучите модель `Lasso` из библиотеки `sklearn` на полученных полиномиальных факторах, предварительно стандартизировав факторы. \n",
        "\n",
        "Коэффициент регуляризации (`alpha`) подберите самостоятельно с помощью любого известного вам метода подбора гиперпаметров.\n",
        "\n",
        "Используя кросс-валидацию, оцените среднее значение выбранной вами метрики (или метрик) на тренировочных и валидационных фолдах.\n",
        "\n",
        "Проинтерпретируйте полученные результаты."
      ]
    },
    {
      "cell_type": "markdown",
      "id": "z24YUfuA9rUq",
      "metadata": {
        "id": "z24YUfuA9rUq"
      },
      "source": [
        "**Критерии оценивания:**\n",
        "\n",
        "- Задание выполнено верно, учтены все условия (**2 балла**): \n",
        "    * правильно построена модель полиномиальной регрессии (линейной регрессии на полиномиальных признаках) с регуляризацией (Lasso), учтены условия необходимости масштабирования факторов для построения модели;\n",
        "    * приведён код для подбора параметра регуляризации (вручную или с помощью библиотечных инструментов);\n",
        "    * с помощью кросс-валидации оценено среднее значение выбранной студентом метрики (или метрик) на тренировочных и валидационных фолдах (метрика должна быть выбрана корректно).\n",
        "\n",
        "- Задание выполнено верно, но не учтено одно из условий (**1 балл**).\n",
        "- Задание выполнено неверно, не учтено несколько условий (**0 баллов**)."
      ]
    },
    {
      "cell_type": "code",
      "execution_count": 57,
      "id": "IJ5b5G8qFz-r",
      "metadata": {
        "id": "IJ5b5G8qFz-r"
      },
      "outputs": [
        {
          "name": "stdout",
          "output_type": "stream",
          "text": [
            "Наилучшие значения параметров: {'alpha': 1.0050251256281406}\n",
            "Среднее значение MARE (на тренировочных данных) : 0.04\n",
            "Среднее значение R2 (на тренировочных данных) : 0.94\n",
            "Среднее значение MARE (на валидационных данных) : 0.04\n",
            "Среднее значение R2 (на валидационных данных) : 0.94\n"
          ]
        }
      ],
      "source": [
        "from sklearn import linear_model \n",
        "from sklearn.model_selection import GridSearchCV\n",
        "\n",
        "param_grid = {'alpha': np.linspace(0, 100, 200)}\n",
        "\n",
        "grid_search = GridSearchCV(\n",
        "    estimator=linear_model.Lasso(),     \n",
        "    param_grid=param_grid, \n",
        "    cv=5, \n",
        "    n_jobs = -1   \n",
        ")\n",
        "grid_search.fit(X_valid, y_valid)\n",
        "print(\"Наилучшие значения параметров: {}\".format(grid_search.best_params_))\n",
        "alpha = grid_search.best_params_['alpha']\n",
        "\n",
        "#Создаём объект класса линейной регрессии с L1-регуляризацией\n",
        "model_lasso = linear_model.Lasso(alpha=alpha)\n",
        "#Создаём объект кросс-валидатора KFold\n",
        "kf = model_selection.KFold(n_splits=5)\n",
        "#Создаём список для хранения тренировочных и валидационных метрик\n",
        "train_metrics_mare = []\n",
        "val_metrics_mare = []\n",
        "train_metrics_r2 = []\n",
        "val_metrics_r2 = []\n",
        "#Организуем цикл для кросс-валидации (используем весь набор данных)\n",
        "\n",
        "for train_index, valid_index in kf.split(X_train, y_train): \n",
        "    #Создаём тренировочную и валидационную выборку, обращаясь по текущим индексам\n",
        "    X_train_tmp, y_train_tmp = X_train.iloc[train_index], y_train.iloc[train_index]\n",
        "    X_valid_tmp, y_valid_tmp = X_train.iloc[valid_index], y_train.iloc[valid_index]\n",
        "    #Обучаем дерево решений на тренировочной выборке\n",
        "    model_lasso.fit(X_train_tmp, y_train_tmp)\n",
        "    #Делаем предсказание для каждой из выборок\n",
        "    y_train_pred = model_lasso.predict(X_train_tmp)\n",
        "    y_valid_pred = model_lasso.predict(X_valid_tmp)\n",
        "    #Рассчитываем метрику и заносим её в список\n",
        "    train_metrics_mare.append(metrics.mean_absolute_percentage_error(y_train_tmp, y_train_pred))\n",
        "    train_metrics_r2.append(metrics.r2_score(y_train_tmp, y_train_pred))\n",
        "    val_metrics_mare.append(metrics.mean_absolute_percentage_error(y_valid_tmp, y_valid_pred))\n",
        "    val_metrics_r2.append(metrics.r2_score(y_valid_tmp, y_valid_pred))\n",
        "\n",
        "print('Среднее значение MARE (на тренировочных данных) : {:.2f}'.format(np.mean(train_metrics_mare)))\n",
        "print('Среднее значение R2 (на тренировочных данных) : {:.2f}'.format(np.mean(train_metrics_r2)))\n",
        "print('Среднее значение MARE (на валидационных данных) : {:.2f}'.format(np.mean(val_metrics_mare)))\n",
        "print('Среднее значение R2 (на валидационных данных) : {:.2f}'.format(np.mean(val_metrics_r2)))\n",
        "m_t[4]=np.mean(train_metrics_mare)*100\n",
        "r2_t[4]=np.mean(train_metrics_r2)\n",
        "m_v[4]=np.mean(val_metrics_mare)*100\n",
        "r2_v[4]=np.mean(val_metrics_r2)"
      ]
    },
    {
      "cell_type": "markdown",
      "id": "Se0OGR8UF2Td",
      "metadata": {
        "id": "Se0OGR8UF2Td"
      },
      "source": [
        "На валидационных данных среднее значение MARE = 4% и R2=0.94 - хорошие показатели для модели линейной регрессии с регуляризацией L1."
      ]
    },
    {
      "cell_type": "markdown",
      "id": "2975ae60",
      "metadata": {
        "id": "2975ae60"
      },
      "source": [
        "### Задание 8.3. (2 балла)\n",
        "\n",
        "Проделаем то же самое с $L_2$-регуляризацией.\n",
        "\n",
        "Обучите модель `Ridge` из библиотеки `sklearn` на полученных полиномиальных факторах, предварительно стандартизировав факторы. \n",
        "\n",
        "Коэффициент регуляризации (`alpha`) подберите самостоятельно с помощью любого известного вам метода подбора гиперпаметров.\n",
        "\n",
        "Используя кросс-валидацию оцените среднее значение выбранной вами метрики (или метрик) на тренировочных и валидационных фолдах.\n",
        "\n",
        "Проинтерпретируйте полученные результаты."
      ]
    },
    {
      "cell_type": "code",
      "execution_count": 58,
      "id": "UfPGyNsjGGS8",
      "metadata": {
        "id": "UfPGyNsjGGS8"
      },
      "outputs": [
        {
          "name": "stdout",
          "output_type": "stream",
          "text": [
            "Наилучшие значения параметров: {'alpha': 0.0}\n",
            "Среднее значение MARE (на тренировочных данных) : 0.04\n",
            "Среднее значение R2 (на тренировочных данных) : 0.94\n",
            "Среднее значение MARE (на валидационных данных) : 0.04\n",
            "Среднее значение R2 (на валидационных данных) : 0.94\n"
          ]
        }
      ],
      "source": [
        "param_grid = {'alpha': np.linspace(0, 100, 200)}\n",
        "grid_search = GridSearchCV(\n",
        "    estimator=linear_model.Ridge(),     \n",
        "    param_grid=param_grid, \n",
        "    cv=5, \n",
        "    n_jobs = -1\n",
        ")\n",
        "grid_search.fit(X_valid, y_valid)\n",
        "print(\"Наилучшие значения параметров: {}\".format(grid_search.best_params_))\n",
        "alpha = grid_search.best_params_['alpha']\n",
        "\n",
        "model_ridge = linear_model.Ridge(alpha=1)\n",
        "#Создаём объект кросс-валидатора KFold\n",
        "kf = model_selection.KFold(n_splits=5)\n",
        "#Создаём список для хранения тренировочных и валидационных метрик\n",
        "train_metrics_mare = []\n",
        "val_metrics_mare = []\n",
        "train_metrics_r2 = []\n",
        "val_metrics_r2 = []\n",
        "\n",
        "for train_index, valid_index in kf.split(X_train, y_train): \n",
        "    #Создаём тренировочную и валидационную выборку, обращаясь по текущим индексам\n",
        "    X_train_tmp, y_train_tmp = X_train.iloc[train_index], y_train.iloc[train_index]\n",
        "    X_valid_tmp, y_valid_tmp = X_train.iloc[valid_index], y_train.iloc[valid_index]\n",
        "    #Обучаем дерево решений на тренировочной выборке\n",
        "    model_ridge.fit(X_train_tmp, y_train_tmp)\n",
        "    #Делаем предсказание для каждой из выборок\n",
        "    y_train_pred = model_ridge.predict(X_train_tmp)\n",
        "    y_valid_pred = model_ridge.predict(X_valid_tmp)\n",
        "    #Рассчитываем метрику и заносим её в список\n",
        "    train_metrics_mare.append(metrics.mean_absolute_percentage_error(y_train_tmp, y_train_pred))\n",
        "    train_metrics_r2.append(metrics.r2_score(y_train_tmp, y_train_pred))\n",
        "    val_metrics_mare.append(metrics.mean_absolute_percentage_error(y_valid_tmp, y_valid_pred))\n",
        "    val_metrics_r2.append(metrics.r2_score(y_valid_tmp, y_valid_pred))\n",
        "\n",
        "#print(train_metrics)\n",
        "#print(val_metrics)\n",
        "print('Среднее значение MARE (на тренировочных данных) : {:.2f}'.format(np.mean(train_metrics_mare)))\n",
        "print('Среднее значение R2 (на тренировочных данных) : {:.2f}'.format(np.mean(train_metrics_r2)))\n",
        "print('Среднее значение MARE (на валидационных данных) : {:.2f}'.format(np.mean(val_metrics_mare)))\n",
        "print('Среднее значение R2 (на валидационных данных) : {:.2f}'.format(np.mean(val_metrics_r2)))\n",
        "m_t[5]=np.mean(train_metrics_mare)*100\n",
        "r2_t[5]=np.mean(train_metrics_r2)\n",
        "m_v[5]=np.mean(val_metrics_mare)*100\n",
        "r2_v[5]=np.mean(val_metrics_r2)"
      ]
    },
    {
      "cell_type": "markdown",
      "id": "dQBd7ny_GIi1",
      "metadata": {
        "id": "dQBd7ny_GIi1"
      },
      "source": [
        "Среднее значение метрик на валидационных данных: MARE = 4% и R2=0.94 - хорошие показатели для модели линейной регрессии с регуляризацией L2, и равны значениям метрик из п. 8.2 (L1-регуляризация)."
      ]
    },
    {
      "cell_type": "markdown",
      "id": "86pXnWE7-5ch",
      "metadata": {
        "id": "86pXnWE7-5ch"
      },
      "source": [
        "**Критерии оценивания:**\n",
        "\n",
        "- Задание выполнено верно, учтены все условия (**2 балла**): \n",
        "    * правильно построена модель полиномиальной регрессии (линейной регрессии на полиномиальных признаках) с регуляризацией (Ridge), учтены условия необходимости масштабирования факторов для построения модели;\n",
        "    * приведён код для подбора параметра регуляризации (вручную или с помощью библиотечных инструментов);\n",
        "    * с помощью кросс-валидации оценено среднее значение выбранной студентом метрики (или метрик) на тренировочных и валидационных фолдах (метрика должна быть выбрана корректно).\n",
        "\n",
        "- Задание выполнено верно, но не учтено одно из условий (**1 балл**).\n",
        "- Задание выполнено неверно, не учтено несколько условий (**0 баллов**)."
      ]
    },
    {
      "cell_type": "markdown",
      "id": "7ad85b78",
      "metadata": {
        "id": "7ad85b78"
      },
      "source": [
        "### Задание 8.4. (2 балла)\n",
        "\n",
        "Наконец, настало время комбинировать $L_1$ и $L_2$ -регуляризации.\n",
        "\n",
        "Обучите модель `ElasticNet` из библиотеки `sklearn` на полученных полиномиальных факторах, предварительно стандартизировав факторы. \n",
        "\n",
        "Коэффициенты регуляризации (`alpha` и `l1-ratio`) подберите самостоятельно с помощью любого известного вам метода подбора гиперпаметров.\n",
        "\n",
        "Используя кросс-валидацию, оцените среднее значение метрики MAPE на тренировочных и валидационных фолдах.\n",
        "\n",
        "Проинтерпретируйте полученные результаты."
      ]
    },
    {
      "cell_type": "markdown",
      "id": "sy8ESceQ-__u",
      "metadata": {
        "id": "sy8ESceQ-__u"
      },
      "source": [
        "**Критерии оценивания:**\n",
        "\n",
        "- Задание выполнено верно, учтены все условия (**2 балла**): \n",
        "    * правильно построена модель полиномиальной регрессии (линейной регрессии на полиномиальных признаках) с регуляризацией (ElasticNet), учтены условия необходимости масштабирования факторов для построения модели;\n",
        "    * приведён код для подбора параметра регуляризации (вручную или с помощью библиотечных инструментов);\n",
        "    * с помощью кросс-валидации оценено среднее значение выбранной студентом метрики (или метрик) на тренировочных и валидационных фолдах (метрика должна быть выбрана корректно).\n",
        "\n",
        "- Задание выполнено верно, но не учтено одно из условий (**1 балл**).\n",
        "- Задание выполнено неверно, не учтено несколько условий (**0 баллов**)."
      ]
    },
    {
      "cell_type": "code",
      "execution_count": 59,
      "id": "-Yi3P20hQnLS",
      "metadata": {
        "id": "-Yi3P20hQnLS"
      },
      "outputs": [
        {
          "name": "stdout",
          "output_type": "stream",
          "text": [
            "Наилучшие значения параметров: {'alpha': 0.05025125628140704, 'l1_ratio': 0.9473684210526315}\n",
            "Среднее значение MARE (на тренировочных данных) : 0.04\n",
            "Среднее значение R2 (на тренировочных данных) : 0.94\n",
            "Среднее значение MARE (на валидационных данных) : 0.04\n",
            "Среднее значение R2 (на валидационных данных) : 0.94\n"
          ]
        }
      ],
      "source": [
        "param_grid = {'alpha': np.linspace(0, 10, 200),\n",
        "              'l1_ratio': np.linspace(0, 1, 20)}\n",
        "              \n",
        "grid_search = GridSearchCV(\n",
        "    estimator=linear_model.ElasticNet(),     \n",
        "    param_grid=param_grid, \n",
        "    cv=5, \n",
        "    n_jobs = -1\n",
        ")\n",
        "grid_search.fit(X_valid, y_valid)\n",
        "print(\"Наилучшие значения параметров: {}\".format(grid_search.best_params_))\n",
        "alpha = grid_search.best_params_['alpha']\n",
        "l1_ratio = grid_search.best_params_['l1_ratio']\n",
        "\n",
        "model_elast = linear_model.ElasticNet(alpha=alpha,l1_ratio=l1_ratio)\n",
        "#Создаём объект кросс-валидатора KFold\n",
        "kf = model_selection.KFold(n_splits=5)\n",
        "#Создаём список для хранения тренировочных и валидационных метрик\n",
        "train_metrics_mare = []\n",
        "val_metrics_mare = []\n",
        "train_metrics_r2 = []\n",
        "val_metrics_r2 = []\n",
        "#Организуем цикл для кросс-валидации (используем весь набор данных)\n",
        "#train_index — индексы тренировочной выборки\n",
        "#valid_index — индексы валидационной выборки\n",
        "for train_index, valid_index in kf.split(X_train, y_train): \n",
        "    #Создаём тренировочную и валидационную выборку, обращаясь по текущим индексам\n",
        "    X_train_tmp, y_train_tmp = X_train.iloc[train_index], y_train.iloc[train_index]\n",
        "    X_valid_tmp, y_valid_tmp = X_train.iloc[valid_index], y_train.iloc[valid_index]\n",
        "    #Обучаем дерево решений на тренировочной выборке\n",
        "    model_elast.fit(X_train_tmp, y_train_tmp)\n",
        "    #Делаем предсказание для каждой из выборок\n",
        "    y_train_pred = model_lasso.predict(X_train_tmp)\n",
        "    y_valid_pred = model_lasso.predict(X_valid_tmp)\n",
        "    #Рассчитываем метрику и заносим её в список\n",
        "    train_metrics_mare.append(metrics.mean_absolute_percentage_error(y_train_tmp, y_train_pred))\n",
        "    train_metrics_r2.append(metrics.r2_score(y_train_tmp, y_train_pred))\n",
        "    val_metrics_mare.append(metrics.mean_absolute_percentage_error(y_valid_tmp, y_valid_pred))\n",
        "    val_metrics_r2.append(metrics.r2_score(y_valid_tmp, y_valid_pred))\n",
        "\n",
        "#print(train_metrics)\n",
        "#print(val_metrics)\n",
        "print('Среднее значение MARE (на тренировочных данных) : {:.2f}'.format(np.mean(train_metrics_mare)))\n",
        "print('Среднее значение R2 (на тренировочных данных) : {:.2f}'.format(np.mean(train_metrics_r2)))\n",
        "print('Среднее значение MARE (на валидационных данных) : {:.2f}'.format(np.mean(val_metrics_mare)))\n",
        "print('Среднее значение R2 (на валидационных данных) : {:.2f}'.format(np.mean(val_metrics_r2)))\n",
        "m_t[6]=np.mean(train_metrics_mare)*100\n",
        "r2_t[6]=np.mean(train_metrics_r2)\n",
        "m_v[6]=np.mean(val_metrics_mare)*100\n",
        "r2_v[6]=np.mean(val_metrics_r2)"
      ]
    },
    {
      "cell_type": "markdown",
      "id": "er2lAiE9QpAb",
      "metadata": {
        "id": "er2lAiE9QpAb"
      },
      "source": [
        "Среднее значение метрик MARE = 4% и R2=0.94 - хорошие показатели для модели линейной регрессии с комбинированием регуляризации L1 и L2 и совпадают с соответствующими значениями метрик из п. 8.2 (модель с регуляризацией L1) и п. 8.3 (модель с регуляризацией L2). Любая из этих моделей может быть применена для предсказания."
      ]
    },
    {
      "cell_type": "markdown",
      "id": "91c6e1d1",
      "metadata": {
        "id": "91c6e1d1"
      },
      "source": [
        "### Задание 8.5. (1 балл)\n",
        "\n",
        "Завершением вашей работы будет сводная таблица результатов, которую вы представите на презентации заказчику Василию.\n",
        "\n",
        "Составьте таблицу (DataFrame) со следующими столбцами (имена столбцов выберите самостоятельно):\n",
        "* Наименование модели.\n",
        "* Гиперпараметры (коэффициенты регуляризации, если таковые имеются), если нет — оставьте ячейку пустой.\n",
        "* Использовались ли полиномиальные признаки при построении модели (Да/Нет или True/False).\n",
        "* Значение выбранной метрики на тренировочных фолдах при кросс-валидации модели.\n",
        "* Значение выбранной метрики на валидационных фолдах при кросс-валидации модели.\n",
        "\n",
        "Сделайте финальный вывод по проделанной работе. Какая линейная модель из тех, что мы рассмотрели, показала наилучший результат с точки зрения качества на валидационных фолдах, а также с точки зрения переобученности?"
      ]
    },
    {
      "cell_type": "markdown",
      "id": "OsFRaKkF_nLq",
      "metadata": {
        "id": "OsFRaKkF_nLq"
      },
      "source": [
        "**Критерии оценивания:**\n",
        "\n",
        "- Задание выполнено верно, учтены все условия (**1 балл**): \n",
        "    * верно составлена сводная таблица итоговых результатов построенных ранее моделей с указанными в задании столбцами;\n",
        "    * приведены итоговые выводы по проделанной работе, указано, какая из рассмотренных моделей показала наилучший результат.\n",
        "\n",
        "- Задание выполнено неверно, не учтено одно или несколько условий (**0 баллов**)."
      ]
    },
    {
      "cell_type": "code",
      "execution_count": 61,
      "id": "wRiys8lKQuqW",
      "metadata": {
        "id": "wRiys8lKQuqW"
      },
      "outputs": [
        {
          "data": {
            "text/html": [
              "<div>\n",
              "<style scoped>\n",
              "    .dataframe tbody tr th:only-of-type {\n",
              "        vertical-align: middle;\n",
              "    }\n",
              "\n",
              "    .dataframe tbody tr th {\n",
              "        vertical-align: top;\n",
              "    }\n",
              "\n",
              "    .dataframe thead th {\n",
              "        text-align: right;\n",
              "    }\n",
              "</style>\n",
              "<table border=\"1\" class=\"dataframe\">\n",
              "  <thead>\n",
              "    <tr style=\"text-align: right;\">\n",
              "      <th></th>\n",
              "      <th>Model</th>\n",
              "      <th>Hyperparam</th>\n",
              "      <th>Poly_feature</th>\n",
              "      <th>MARE_train(%)</th>\n",
              "      <th>R2_train</th>\n",
              "      <th>MARE_valid(%)</th>\n",
              "      <th>R2_valid</th>\n",
              "    </tr>\n",
              "  </thead>\n",
              "  <tbody>\n",
              "    <tr>\n",
              "      <th>0</th>\n",
              "      <td>Matrix_MNK*</td>\n",
              "      <td>None</td>\n",
              "      <td>False</td>\n",
              "      <td>3.565808</td>\n",
              "      <td>0.959961</td>\n",
              "      <td>NaN</td>\n",
              "      <td>NaN</td>\n",
              "    </tr>\n",
              "    <tr>\n",
              "      <th>1</th>\n",
              "      <td>Matrix_MNK</td>\n",
              "      <td>None</td>\n",
              "      <td>False</td>\n",
              "      <td>3.896469</td>\n",
              "      <td>0.948664</td>\n",
              "      <td>NaN</td>\n",
              "      <td>NaN</td>\n",
              "    </tr>\n",
              "    <tr>\n",
              "      <th>2</th>\n",
              "      <td>LinReg</td>\n",
              "      <td>None</td>\n",
              "      <td>False</td>\n",
              "      <td>3.896469</td>\n",
              "      <td>0.948664</td>\n",
              "      <td>4.470679</td>\n",
              "      <td>0.928972</td>\n",
              "    </tr>\n",
              "    <tr>\n",
              "      <th>3</th>\n",
              "      <td>LinReg_Poly</td>\n",
              "      <td>None</td>\n",
              "      <td>True</td>\n",
              "      <td>4.917449</td>\n",
              "      <td>0.916182</td>\n",
              "      <td>4.975228</td>\n",
              "      <td>0.910206</td>\n",
              "    </tr>\n",
              "    <tr>\n",
              "      <th>4</th>\n",
              "      <td>LinReg_L1</td>\n",
              "      <td>1.0</td>\n",
              "      <td>True</td>\n",
              "      <td>4.017084</td>\n",
              "      <td>0.943567</td>\n",
              "      <td>4.197873</td>\n",
              "      <td>0.936371</td>\n",
              "    </tr>\n",
              "    <tr>\n",
              "      <th>5</th>\n",
              "      <td>LinReg_L2</td>\n",
              "      <td>0.0</td>\n",
              "      <td>True</td>\n",
              "      <td>4.016699</td>\n",
              "      <td>0.943351</td>\n",
              "      <td>4.194946</td>\n",
              "      <td>0.936459</td>\n",
              "    </tr>\n",
              "    <tr>\n",
              "      <th>6</th>\n",
              "      <td>LinReg_L1_L2</td>\n",
              "      <td>0.05, 0.95</td>\n",
              "      <td>True</td>\n",
              "      <td>4.124097</td>\n",
              "      <td>0.941808</td>\n",
              "      <td>4.124097</td>\n",
              "      <td>0.940520</td>\n",
              "    </tr>\n",
              "  </tbody>\n",
              "</table>\n",
              "</div>"
            ],
            "text/plain": [
              "          Model  Hyperparam  Poly_feature  MARE_train(%)  R2_train  \\\n",
              "0   Matrix_MNK*        None         False       3.565808  0.959961   \n",
              "1    Matrix_MNK        None         False       3.896469  0.948664   \n",
              "2        LinReg        None         False       3.896469  0.948664   \n",
              "3   LinReg_Poly        None          True       4.917449  0.916182   \n",
              "4     LinReg_L1         1.0          True       4.017084  0.943567   \n",
              "5     LinReg_L2         0.0          True       4.016699  0.943351   \n",
              "6  LinReg_L1_L2  0.05, 0.95          True       4.124097  0.941808   \n",
              "\n",
              "   MARE_valid(%)  R2_valid  \n",
              "0            NaN       NaN  \n",
              "1            NaN       NaN  \n",
              "2       4.470679  0.928972  \n",
              "3       4.975228  0.910206  \n",
              "4       4.197873  0.936371  \n",
              "5       4.194946  0.936459  \n",
              "6       4.124097  0.940520  "
            ]
          },
          "metadata": {},
          "output_type": "display_data"
        }
      ],
      "source": [
        "table = {'Model':['Matrix_MNK*', 'Matrix_MNK', 'LinReg', 'LinReg_Poly', 'LinReg_L1', 'LinReg_L2', 'LinReg_L1_L2'], \n",
        "         'Hyperparam':[None, None, None, None, 1.0, 0.0, '0.05, 0.95'], \n",
        "         'Poly_feature':[False, False, False, True, True, True, True], \n",
        "         'MARE_train(%)':[m_t[0], m_t[1], m_t[2], m_t[3], m_t[4], m_t[5], m_t[6]],\n",
        "         'R2_train':[r2_t[0], r2_t[1], r2_t[2], r2_t[3], r2_t[4], r2_t[5], r2_t[6]],\n",
        "         'MARE_valid(%)':[m_v[0], m_v[1], m_v[2], m_v[3], m_v[4], m_v[5], m_v[6]],\n",
        "         'R2_valid':[r2_v[0], r2_v[1], r2_v[2], r2_v[3], r2_v[4], r2_v[5], r2_v[6]]}\n",
        "table = pd.DataFrame(table)\n",
        "display(table) \n"
      ]
    },
    {
      "cell_type": "markdown",
      "id": "6276a266",
      "metadata": {},
      "source": [
        "* Matrix_MNK* - метод линейной регрессии по МНК (матричная формула), использование всех факторов\n",
        "* Matrix_MNK - метод линейной регрессии по МНК (матричная формула), здесь и далее исключены неинформативные и сильно коррелированные между собой факторы.\n",
        "* LinReg - метод линейной регрессии по МНК, где использована библиотечная ф-я LinearRegression\n",
        "* LinReg_Poly - модель линейной регрессии по МНК, где использована ф-я LinearRegression на полиномиальных факторах\n",
        "* LinReg_L1 -  модель линейной регрессии по МНК, где использована ф-я Ridge (L2-регуляризация) на полиномиальных факторах (предварительно стандартизированных)\n",
        "* LinReg_L2 - модель линейной регрессии по МНК, где использована ф-я Lasso (L1-регуляризация) на полиномиальных факторах (предварительно стандартизированных)\n",
        "* LinReg_L1_L2 - модель линейной регрессии по МНК, где использована ф-я ElasticNet (L1 и L2 - регуляризация) на полиномиальных факторах (предварительно стандартизированных)"
      ]
    },
    {
      "cell_type": "markdown",
      "id": "UP7_LSoEQsrA",
      "metadata": {
        "id": "UP7_LSoEQsrA"
      },
      "source": [
        "Все рассматриваемые модели показали хороший результат в предсказании целевой метрики Prod (добыча газа в сутки), однако стоит отдать предпочтение тем моделям, где мы проверили результат предсказания на валидационной (тестовой) выборке, например, модели линейной регрессии по МНК с L1 и L2 - регуляризацией.\n",
        "Метрики MARE и R2 на валидационных фолдах имеют хорошие показатели, - при этом можем говорить, что переобучения этих моделей не произошло."
      ]
    }
  ],
  "metadata": {
    "colab": {
      "provenance": []
    },
    "kernelspec": {
      "display_name": "Python 3.10.8 ('base')",
      "language": "python",
      "name": "python3"
    },
    "language_info": {
      "codemirror_mode": {
        "name": "ipython",
        "version": 3
      },
      "file_extension": ".py",
      "mimetype": "text/x-python",
      "name": "python",
      "nbconvert_exporter": "python",
      "pygments_lexer": "ipython3",
      "version": "3.11.4"
    },
    "vscode": {
      "interpreter": {
        "hash": "86c56a74836ad344b00594bf6f38fa6a676a207ceefe20d101fbc465800ccb8d"
      }
    }
  },
  "nbformat": 4,
  "nbformat_minor": 5
}
